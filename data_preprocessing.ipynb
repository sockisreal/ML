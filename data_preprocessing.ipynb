{
 "cells": [
  {
   "cell_type": "raw",
   "metadata": {},
   "source": [
    "### Импорт бибилотек"
   ]
  },
  {
   "cell_type": "code",
   "execution_count": 177,
   "metadata": {},
   "outputs": [],
   "source": [
    "import numpy as np\n",
    "import pandas as pd\n",
    "import seaborn as sns\n",
    "import matplotlib.pyplot as plt\n",
    "%matplotlib inline\n",
    "sns.set(style=\"ticks\")\n",
    "from sklearn.datasets import *\n",
    "from sklearn.impute import SimpleImputer, MissingIndicator\n",
    "from sklearn.preprocessing import LabelEncoder, OneHotEncoder, MinMaxScaler, StandardScaler, Normalizer"
   ]
  },
  {
   "cell_type": "markdown",
   "metadata": {},
   "source": [
    "### Выгрузка датасета"
   ]
  },
  {
   "cell_type": "code",
   "execution_count": 178,
   "metadata": {},
   "outputs": [],
   "source": [
    "df = pd.read_csv(\"all_courses.csv\")"
   ]
  },
  {
   "cell_type": "markdown",
   "metadata": {},
   "source": [
    "### Информация о датасете"
   ]
  },
  {
   "cell_type": "code",
   "execution_count": 179,
   "metadata": {
    "scrolled": true
   },
   "outputs": [
    {
     "data": {
      "text/plain": [
       "Index(['Title', 'Type', 'Description', 'Level', 'Duration', 'Rating',\n",
       "       'Review Count', 'Skills Covered', 'Prerequisites', 'Affiliates', 'URL'],\n",
       "      dtype='object')"
      ]
     },
     "execution_count": 179,
     "metadata": {},
     "output_type": "execute_result"
    }
   ],
   "source": [
    "df.columns"
   ]
  },
  {
   "cell_type": "markdown",
   "metadata": {},
   "source": [
    "Форма датафрейма:"
   ]
  },
  {
   "cell_type": "code",
   "execution_count": 180,
   "metadata": {},
   "outputs": [
    {
     "data": {
      "text/plain": [
       "(267, 11)"
      ]
     },
     "execution_count": 180,
     "metadata": {},
     "output_type": "execute_result"
    }
   ],
   "source": [
    "df.shape"
   ]
  },
  {
   "cell_type": "markdown",
   "metadata": {},
   "source": [
    "Типы колонок:"
   ]
  },
  {
   "cell_type": "code",
   "execution_count": 181,
   "metadata": {
    "scrolled": true
   },
   "outputs": [
    {
     "data": {
      "text/plain": [
       "Title              object\n",
       "Type               object\n",
       "Description        object\n",
       "Level              object\n",
       "Duration           object\n",
       "Rating            float64\n",
       "Review Count      float64\n",
       "Skills Covered     object\n",
       "Prerequisites      object\n",
       "Affiliates         object\n",
       "URL                object\n",
       "dtype: object"
      ]
     },
     "execution_count": 181,
     "metadata": {},
     "output_type": "execute_result"
    }
   ],
   "source": [
    "df.dtypes"
   ]
  },
  {
   "cell_type": "markdown",
   "metadata": {},
   "source": [
    "Количество пропусков:"
   ]
  },
  {
   "cell_type": "code",
   "execution_count": 182,
   "metadata": {
    "scrolled": true
   },
   "outputs": [
    {
     "data": {
      "text/plain": [
       "Title               0\n",
       "Type                0\n",
       "Description         6\n",
       "Level               2\n",
       "Duration            4\n",
       "Rating            205\n",
       "Review Count      205\n",
       "Skills Covered      0\n",
       "Prerequisites     187\n",
       "Affiliates        129\n",
       "URL                 0\n",
       "dtype: int64"
      ]
     },
     "execution_count": 182,
     "metadata": {},
     "output_type": "execute_result"
    }
   ],
   "source": [
    "df.isnull().sum()"
   ]
  },
  {
   "cell_type": "code",
   "execution_count": 183,
   "metadata": {},
   "outputs": [],
   "source": [
    "df = df [['Level', 'Rating', 'Review Count']]"
   ]
  },
  {
   "cell_type": "code",
   "execution_count": 184,
   "metadata": {},
   "outputs": [
    {
     "data": {
      "text/html": [
       "<div>\n",
       "<style scoped>\n",
       "    .dataframe tbody tr th:only-of-type {\n",
       "        vertical-align: middle;\n",
       "    }\n",
       "\n",
       "    .dataframe tbody tr th {\n",
       "        vertical-align: top;\n",
       "    }\n",
       "\n",
       "    .dataframe thead th {\n",
       "        text-align: right;\n",
       "    }\n",
       "</style>\n",
       "<table border=\"1\" class=\"dataframe\">\n",
       "  <thead>\n",
       "    <tr style=\"text-align: right;\">\n",
       "      <th></th>\n",
       "      <th>Level</th>\n",
       "      <th>Rating</th>\n",
       "      <th>Review Count</th>\n",
       "    </tr>\n",
       "  </thead>\n",
       "  <tbody>\n",
       "    <tr>\n",
       "      <th>0</th>\n",
       "      <td>intermediate</td>\n",
       "      <td>4.6</td>\n",
       "      <td>1802.0</td>\n",
       "    </tr>\n",
       "    <tr>\n",
       "      <th>1</th>\n",
       "      <td>beginner</td>\n",
       "      <td>4.7</td>\n",
       "      <td>864.0</td>\n",
       "    </tr>\n",
       "    <tr>\n",
       "      <th>2</th>\n",
       "      <td>intermediate</td>\n",
       "      <td>4.5</td>\n",
       "      <td>1126.0</td>\n",
       "    </tr>\n",
       "    <tr>\n",
       "      <th>3</th>\n",
       "      <td>beginner</td>\n",
       "      <td>4.8</td>\n",
       "      <td>2649.0</td>\n",
       "    </tr>\n",
       "    <tr>\n",
       "      <th>4</th>\n",
       "      <td>advanced</td>\n",
       "      <td>4.7</td>\n",
       "      <td>1212.0</td>\n",
       "    </tr>\n",
       "    <tr>\n",
       "      <th>5</th>\n",
       "      <td>beginner</td>\n",
       "      <td>4.7</td>\n",
       "      <td>3865.0</td>\n",
       "    </tr>\n",
       "    <tr>\n",
       "      <th>6</th>\n",
       "      <td>beginner</td>\n",
       "      <td>4.7</td>\n",
       "      <td>2418.0</td>\n",
       "    </tr>\n",
       "    <tr>\n",
       "      <th>7</th>\n",
       "      <td>intermediate</td>\n",
       "      <td>4.6</td>\n",
       "      <td>3496.0</td>\n",
       "    </tr>\n",
       "    <tr>\n",
       "      <th>8</th>\n",
       "      <td>intermediate</td>\n",
       "      <td>4.7</td>\n",
       "      <td>3368.0</td>\n",
       "    </tr>\n",
       "    <tr>\n",
       "      <th>9</th>\n",
       "      <td>beginner</td>\n",
       "      <td>4.7</td>\n",
       "      <td>1558.0</td>\n",
       "    </tr>\n",
       "  </tbody>\n",
       "</table>\n",
       "</div>"
      ],
      "text/plain": [
       "          Level  Rating  Review Count\n",
       "0  intermediate     4.6        1802.0\n",
       "1      beginner     4.7         864.0\n",
       "2  intermediate     4.5        1126.0\n",
       "3      beginner     4.8        2649.0\n",
       "4      advanced     4.7        1212.0\n",
       "5      beginner     4.7        3865.0\n",
       "6      beginner     4.7        2418.0\n",
       "7  intermediate     4.6        3496.0\n",
       "8  intermediate     4.7        3368.0\n",
       "9      beginner     4.7        1558.0"
      ]
     },
     "execution_count": 184,
     "metadata": {},
     "output_type": "execute_result"
    }
   ],
   "source": [
    "df.head(10)"
   ]
  },
  {
   "cell_type": "code",
   "execution_count": 185,
   "metadata": {},
   "outputs": [
    {
     "name": "stdout",
     "output_type": "stream",
     "text": [
      "Всего строк: 267\n"
     ]
    }
   ],
   "source": [
    "total_count = df.shape[0]\n",
    "print('Всего строк: {}'.format(total_count))"
   ]
  },
  {
   "cell_type": "markdown",
   "metadata": {},
   "source": [
    "# Обработка пропусков в данных"
   ]
  },
  {
   "cell_type": "markdown",
   "metadata": {},
   "source": [
    "### Обработка пропусков в числовых данных"
   ]
  },
  {
   "cell_type": "markdown",
   "metadata": {},
   "source": [
    "Выберем числовые колонки с пропущенными значениями:"
   ]
  },
  {
   "cell_type": "code",
   "execution_count": 186,
   "metadata": {},
   "outputs": [
    {
     "name": "stdout",
     "output_type": "stream",
     "text": [
      "Колонка Rating. Тип данных float64. Количество пустых значений 205, 76.78%.\n",
      "Колонка Review Count. Тип данных float64. Количество пустых значений 205, 76.78%.\n"
     ]
    }
   ],
   "source": [
    "num_cols = []\n",
    "# Цикл по колонкам датасета\n",
    "for col in df.columns:\n",
    "    # Количество пустых значений \n",
    "    temp_null_count = df[df[col].isnull()].shape[0]\n",
    "    dt = str(df[col].dtype)\n",
    "    if temp_null_count > 0 and (dt == 'float64' or dt == 'int64'):\n",
    "        num_cols.append(col)\n",
    "        temp_perc = round((temp_null_count / total_count) * 100.0, 2)\n",
    "        print('Колонка {}. Тип данных {}. Количество пустых значений {}, {}%.'.format(col, dt, temp_null_count, temp_perc))"
   ]
  },
  {
   "cell_type": "markdown",
   "metadata": {},
   "source": [
    "Фильтр по колонкам с пропущенными значениями:"
   ]
  },
  {
   "cell_type": "code",
   "execution_count": 187,
   "metadata": {},
   "outputs": [
    {
     "data": {
      "text/html": [
       "<div>\n",
       "<style scoped>\n",
       "    .dataframe tbody tr th:only-of-type {\n",
       "        vertical-align: middle;\n",
       "    }\n",
       "\n",
       "    .dataframe tbody tr th {\n",
       "        vertical-align: top;\n",
       "    }\n",
       "\n",
       "    .dataframe thead th {\n",
       "        text-align: right;\n",
       "    }\n",
       "</style>\n",
       "<table border=\"1\" class=\"dataframe\">\n",
       "  <thead>\n",
       "    <tr style=\"text-align: right;\">\n",
       "      <th></th>\n",
       "      <th>Rating</th>\n",
       "      <th>Review Count</th>\n",
       "    </tr>\n",
       "  </thead>\n",
       "  <tbody>\n",
       "    <tr>\n",
       "      <th>0</th>\n",
       "      <td>4.6</td>\n",
       "      <td>1802.0</td>\n",
       "    </tr>\n",
       "    <tr>\n",
       "      <th>1</th>\n",
       "      <td>4.7</td>\n",
       "      <td>864.0</td>\n",
       "    </tr>\n",
       "    <tr>\n",
       "      <th>2</th>\n",
       "      <td>4.5</td>\n",
       "      <td>1126.0</td>\n",
       "    </tr>\n",
       "    <tr>\n",
       "      <th>3</th>\n",
       "      <td>4.8</td>\n",
       "      <td>2649.0</td>\n",
       "    </tr>\n",
       "    <tr>\n",
       "      <th>4</th>\n",
       "      <td>4.7</td>\n",
       "      <td>1212.0</td>\n",
       "    </tr>\n",
       "    <tr>\n",
       "      <th>...</th>\n",
       "      <td>...</td>\n",
       "      <td>...</td>\n",
       "    </tr>\n",
       "    <tr>\n",
       "      <th>262</th>\n",
       "      <td>NaN</td>\n",
       "      <td>NaN</td>\n",
       "    </tr>\n",
       "    <tr>\n",
       "      <th>263</th>\n",
       "      <td>NaN</td>\n",
       "      <td>NaN</td>\n",
       "    </tr>\n",
       "    <tr>\n",
       "      <th>264</th>\n",
       "      <td>NaN</td>\n",
       "      <td>NaN</td>\n",
       "    </tr>\n",
       "    <tr>\n",
       "      <th>265</th>\n",
       "      <td>NaN</td>\n",
       "      <td>NaN</td>\n",
       "    </tr>\n",
       "    <tr>\n",
       "      <th>266</th>\n",
       "      <td>NaN</td>\n",
       "      <td>NaN</td>\n",
       "    </tr>\n",
       "  </tbody>\n",
       "</table>\n",
       "<p>267 rows × 2 columns</p>\n",
       "</div>"
      ],
      "text/plain": [
       "     Rating  Review Count\n",
       "0       4.6        1802.0\n",
       "1       4.7         864.0\n",
       "2       4.5        1126.0\n",
       "3       4.8        2649.0\n",
       "4       4.7        1212.0\n",
       "..      ...           ...\n",
       "262     NaN           NaN\n",
       "263     NaN           NaN\n",
       "264     NaN           NaN\n",
       "265     NaN           NaN\n",
       "266     NaN           NaN\n",
       "\n",
       "[267 rows x 2 columns]"
      ]
     },
     "execution_count": 187,
     "metadata": {},
     "output_type": "execute_result"
    }
   ],
   "source": [
    "df_num = df[num_cols]\n",
    "df_num"
   ]
  },
  {
   "cell_type": "markdown",
   "metadata": {},
   "source": [
    "Гистограмма по признакам:"
   ]
  },
  {
   "cell_type": "code",
   "execution_count": 188,
   "metadata": {
    "scrolled": true
   },
   "outputs": [
    {
     "data": {
      "image/png": "[encoded data removed]",
      "text/plain": [
       "<Figure size 432x288 with 1 Axes>"
      ]
     },
     "metadata": {},
     "output_type": "display_data"
    },
    {
     "data": {
      "image/png": "[encoded data removed]",
      "text/plain": [
       "<Figure size 432x288 with 1 Axes>"
      ]
     },
     "metadata": {},
     "output_type": "display_data"
    }
   ],
   "source": [
    "for col in df_num:\n",
    "    plt.hist(df[col], 50)\n",
    "    plt.xlabel(col)\n",
    "    plt.show()"
   ]
  },
  {
   "cell_type": "code",
   "execution_count": 189,
   "metadata": {},
   "outputs": [
    {
     "data": {
      "text/html": [
       "<div>\n",
       "<style scoped>\n",
       "    .dataframe tbody tr th:only-of-type {\n",
       "        vertical-align: middle;\n",
       "    }\n",
       "\n",
       "    .dataframe tbody tr th {\n",
       "        vertical-align: top;\n",
       "    }\n",
       "\n",
       "    .dataframe thead th {\n",
       "        text-align: right;\n",
       "    }\n",
       "</style>\n",
       "<table border=\"1\" class=\"dataframe\">\n",
       "  <thead>\n",
       "    <tr style=\"text-align: right;\">\n",
       "      <th></th>\n",
       "      <th>count</th>\n",
       "      <th>mean</th>\n",
       "      <th>std</th>\n",
       "      <th>min</th>\n",
       "      <th>25%</th>\n",
       "      <th>50%</th>\n",
       "      <th>75%</th>\n",
       "      <th>max</th>\n",
       "    </tr>\n",
       "  </thead>\n",
       "  <tbody>\n",
       "    <tr>\n",
       "      <th>Rating</th>\n",
       "      <td>62.0</td>\n",
       "      <td>4.595161</td>\n",
       "      <td>0.123378</td>\n",
       "      <td>4.3</td>\n",
       "      <td>4.5</td>\n",
       "      <td>4.6</td>\n",
       "      <td>4.7</td>\n",
       "      <td>4.8</td>\n",
       "    </tr>\n",
       "    <tr>\n",
       "      <th>Review Count</th>\n",
       "      <td>62.0</td>\n",
       "      <td>714.887097</td>\n",
       "      <td>856.714006</td>\n",
       "      <td>50.0</td>\n",
       "      <td>151.0</td>\n",
       "      <td>359.0</td>\n",
       "      <td>849.0</td>\n",
       "      <td>3865.0</td>\n",
       "    </tr>\n",
       "  </tbody>\n",
       "</table>\n",
       "</div>"
      ],
      "text/plain": [
       "              count        mean         std   min    25%    50%    75%     max\n",
       "Rating         62.0    4.595161    0.123378   4.3    4.5    4.6    4.7     4.8\n",
       "Review Count   62.0  714.887097  856.714006  50.0  151.0  359.0  849.0  3865.0"
      ]
     },
     "execution_count": 189,
     "metadata": {},
     "output_type": "execute_result"
    }
   ],
   "source": [
    "df_num.describe().T"
   ]
  },
  {
   "cell_type": "code",
   "execution_count": 190,
   "metadata": {},
   "outputs": [
    {
     "data": {
      "text/html": [
       "<div>\n",
       "<style scoped>\n",
       "    .dataframe tbody tr th:only-of-type {\n",
       "        vertical-align: middle;\n",
       "    }\n",
       "\n",
       "    .dataframe tbody tr th {\n",
       "        vertical-align: top;\n",
       "    }\n",
       "\n",
       "    .dataframe thead th {\n",
       "        text-align: right;\n",
       "    }\n",
       "</style>\n",
       "<table border=\"1\" class=\"dataframe\">\n",
       "  <thead>\n",
       "    <tr style=\"text-align: right;\">\n",
       "      <th></th>\n",
       "      <th>Rating</th>\n",
       "    </tr>\n",
       "  </thead>\n",
       "  <tbody>\n",
       "    <tr>\n",
       "      <th>0</th>\n",
       "      <td>4.6</td>\n",
       "    </tr>\n",
       "    <tr>\n",
       "      <th>1</th>\n",
       "      <td>4.7</td>\n",
       "    </tr>\n",
       "    <tr>\n",
       "      <th>2</th>\n",
       "      <td>4.5</td>\n",
       "    </tr>\n",
       "    <tr>\n",
       "      <th>3</th>\n",
       "      <td>4.8</td>\n",
       "    </tr>\n",
       "    <tr>\n",
       "      <th>4</th>\n",
       "      <td>4.7</td>\n",
       "    </tr>\n",
       "    <tr>\n",
       "      <th>...</th>\n",
       "      <td>...</td>\n",
       "    </tr>\n",
       "    <tr>\n",
       "      <th>262</th>\n",
       "      <td>NaN</td>\n",
       "    </tr>\n",
       "    <tr>\n",
       "      <th>263</th>\n",
       "      <td>NaN</td>\n",
       "    </tr>\n",
       "    <tr>\n",
       "      <th>264</th>\n",
       "      <td>NaN</td>\n",
       "    </tr>\n",
       "    <tr>\n",
       "      <th>265</th>\n",
       "      <td>NaN</td>\n",
       "    </tr>\n",
       "    <tr>\n",
       "      <th>266</th>\n",
       "      <td>NaN</td>\n",
       "    </tr>\n",
       "  </tbody>\n",
       "</table>\n",
       "<p>267 rows × 1 columns</p>\n",
       "</div>"
      ],
      "text/plain": [
       "     Rating\n",
       "0       4.6\n",
       "1       4.7\n",
       "2       4.5\n",
       "3       4.8\n",
       "4       4.7\n",
       "..      ...\n",
       "262     NaN\n",
       "263     NaN\n",
       "264     NaN\n",
       "265     NaN\n",
       "266     NaN\n",
       "\n",
       "[267 rows x 1 columns]"
      ]
     },
     "execution_count": 190,
     "metadata": {},
     "output_type": "execute_result"
    }
   ],
   "source": [
    "df_num_Rating = df_num[['Rating']]\n",
    "df_num_Rating"
   ]
  },
  {
   "cell_type": "code",
   "execution_count": 191,
   "metadata": {},
   "outputs": [
    {
     "data": {
      "text/plain": [
       "array([[False],\n",
       "       [False],\n",
       "       [False],\n",
       "       [False],\n",
       "       [False],\n",
       "       [False],\n",
       "       [False],\n",
       "       [False],\n",
       "       [False],\n",
       "       [False],\n",
       "       [False],\n",
       "       [False],\n",
       "       [False],\n",
       "       [False],\n",
       "       [False],\n",
       "       [False],\n",
       "       [ True],\n",
       "       [False],\n",
       "       [False],\n",
       "       [ True],\n",
       "       [False],\n",
       "       [False],\n",
       "       [False],\n",
       "       [False],\n",
       "       [False],\n",
       "       [False],\n",
       "       [False],\n",
       "       [False],\n",
       "       [False],\n",
       "       [False],\n",
       "       [False],\n",
       "       [False],\n",
       "       [False],\n",
       "       [False],\n",
       "       [False],\n",
       "       [False],\n",
       "       [False],\n",
       "       [False],\n",
       "       [False],\n",
       "       [False],\n",
       "       [False],\n",
       "       [False],\n",
       "       [False],\n",
       "       [False],\n",
       "       [False],\n",
       "       [False],\n",
       "       [False],\n",
       "       [False],\n",
       "       [False],\n",
       "       [False],\n",
       "       [False],\n",
       "       [False],\n",
       "       [False],\n",
       "       [False],\n",
       "       [ True],\n",
       "       [False],\n",
       "       [False],\n",
       "       [False],\n",
       "       [False],\n",
       "       [ True],\n",
       "       [ True],\n",
       "       [ True],\n",
       "       [False],\n",
       "       [False],\n",
       "       [False],\n",
       "       [ True],\n",
       "       [False],\n",
       "       [ True],\n",
       "       [ True],\n",
       "       [False],\n",
       "       [ True],\n",
       "       [ True],\n",
       "       [ True],\n",
       "       [ True],\n",
       "       [ True],\n",
       "       [ True],\n",
       "       [False],\n",
       "       [ True],\n",
       "       [ True],\n",
       "       [ True],\n",
       "       [ True],\n",
       "       [ True],\n",
       "       [ True],\n",
       "       [ True],\n",
       "       [ True],\n",
       "       [ True],\n",
       "       [ True],\n",
       "       [ True],\n",
       "       [ True],\n",
       "       [ True],\n",
       "       [ True],\n",
       "       [ True],\n",
       "       [ True],\n",
       "       [ True],\n",
       "       [ True],\n",
       "       [ True],\n",
       "       [ True],\n",
       "       [ True],\n",
       "       [ True],\n",
       "       [ True],\n",
       "       [ True],\n",
       "       [ True],\n",
       "       [ True],\n",
       "       [ True],\n",
       "       [ True],\n",
       "       [ True],\n",
       "       [ True],\n",
       "       [ True],\n",
       "       [ True],\n",
       "       [ True],\n",
       "       [ True],\n",
       "       [ True],\n",
       "       [ True],\n",
       "       [ True],\n",
       "       [ True],\n",
       "       [ True],\n",
       "       [ True],\n",
       "       [ True],\n",
       "       [ True],\n",
       "       [ True],\n",
       "       [ True],\n",
       "       [ True],\n",
       "       [ True],\n",
       "       [ True],\n",
       "       [ True],\n",
       "       [ True],\n",
       "       [ True],\n",
       "       [ True],\n",
       "       [ True],\n",
       "       [ True],\n",
       "       [ True],\n",
       "       [ True],\n",
       "       [ True],\n",
       "       [ True],\n",
       "       [ True],\n",
       "       [ True],\n",
       "       [ True],\n",
       "       [ True],\n",
       "       [ True],\n",
       "       [ True],\n",
       "       [ True],\n",
       "       [ True],\n",
       "       [ True],\n",
       "       [ True],\n",
       "       [ True],\n",
       "       [ True],\n",
       "       [ True],\n",
       "       [ True],\n",
       "       [ True],\n",
       "       [ True],\n",
       "       [ True],\n",
       "       [ True],\n",
       "       [ True],\n",
       "       [ True],\n",
       "       [ True],\n",
       "       [ True],\n",
       "       [ True],\n",
       "       [ True],\n",
       "       [ True],\n",
       "       [ True],\n",
       "       [ True],\n",
       "       [ True],\n",
       "       [ True],\n",
       "       [ True],\n",
       "       [ True],\n",
       "       [ True],\n",
       "       [ True],\n",
       "       [ True],\n",
       "       [ True],\n",
       "       [ True],\n",
       "       [ True],\n",
       "       [ True],\n",
       "       [ True],\n",
       "       [ True],\n",
       "       [ True],\n",
       "       [ True],\n",
       "       [ True],\n",
       "       [ True],\n",
       "       [ True],\n",
       "       [ True],\n",
       "       [ True],\n",
       "       [ True],\n",
       "       [ True],\n",
       "       [ True],\n",
       "       [ True],\n",
       "       [ True],\n",
       "       [ True],\n",
       "       [ True],\n",
       "       [ True],\n",
       "       [ True],\n",
       "       [ True],\n",
       "       [ True],\n",
       "       [ True],\n",
       "       [ True],\n",
       "       [ True],\n",
       "       [ True],\n",
       "       [ True],\n",
       "       [ True],\n",
       "       [ True],\n",
       "       [ True],\n",
       "       [ True],\n",
       "       [ True],\n",
       "       [ True],\n",
       "       [ True],\n",
       "       [ True],\n",
       "       [ True],\n",
       "       [ True],\n",
       "       [ True],\n",
       "       [ True],\n",
       "       [ True],\n",
       "       [ True],\n",
       "       [ True],\n",
       "       [ True],\n",
       "       [ True],\n",
       "       [ True],\n",
       "       [ True],\n",
       "       [ True],\n",
       "       [ True],\n",
       "       [ True],\n",
       "       [ True],\n",
       "       [ True],\n",
       "       [ True],\n",
       "       [ True],\n",
       "       [ True],\n",
       "       [ True],\n",
       "       [ True],\n",
       "       [ True],\n",
       "       [ True],\n",
       "       [ True],\n",
       "       [ True],\n",
       "       [ True],\n",
       "       [ True],\n",
       "       [ True],\n",
       "       [ True],\n",
       "       [ True],\n",
       "       [ True],\n",
       "       [ True],\n",
       "       [ True],\n",
       "       [ True],\n",
       "       [ True],\n",
       "       [ True],\n",
       "       [ True],\n",
       "       [ True],\n",
       "       [ True],\n",
       "       [ True],\n",
       "       [ True],\n",
       "       [ True],\n",
       "       [ True],\n",
       "       [ True],\n",
       "       [ True],\n",
       "       [ True],\n",
       "       [ True],\n",
       "       [ True],\n",
       "       [ True],\n",
       "       [ True],\n",
       "       [ True],\n",
       "       [ True],\n",
       "       [ True],\n",
       "       [ True],\n",
       "       [ True],\n",
       "       [ True],\n",
       "       [ True],\n",
       "       [ True],\n",
       "       [ True],\n",
       "       [ True],\n",
       "       [ True],\n",
       "       [ True]])"
      ]
     },
     "execution_count": 191,
     "metadata": {},
     "output_type": "execute_result"
    }
   ],
   "source": [
    "# Фильтр для проверки заполнения пустых значений\n",
    "indicator = MissingIndicator()\n",
    "mask_missing_values_only = indicator.fit_transform(df_num_Rating)\n",
    "mask_missing_values_only"
   ]
  },
  {
   "cell_type": "code",
   "execution_count": 192,
   "metadata": {},
   "outputs": [],
   "source": [
    "#Стратегии заполнения\n",
    "strategies=['mean', 'median', 'most_frequent']"
   ]
  },
  {
   "cell_type": "code",
   "execution_count": 193,
   "metadata": {},
   "outputs": [],
   "source": [
    "def test_num_impute(strategy_param):\n",
    "    imp_num = SimpleImputer(strategy = strategy_param)\n",
    "    df_num_imp = imp_num.fit_transform(df_num_Rating)\n",
    "    return df_num_imp[mask_missing_values_only]"
   ]
  },
  {
   "cell_type": "code",
   "execution_count": 194,
   "metadata": {},
   "outputs": [
    {
     "data": {
      "text/plain": [
       "('mean',\n",
       " array([4.59516129, 4.59516129, 4.59516129, 4.59516129, 4.59516129,\n",
       "        4.59516129, 4.59516129, 4.59516129, 4.59516129, 4.59516129,\n",
       "        4.59516129, 4.59516129, 4.59516129, 4.59516129, 4.59516129,\n",
       "        4.59516129, 4.59516129, 4.59516129, 4.59516129, 4.59516129,\n",
       "        4.59516129, 4.59516129, 4.59516129, 4.59516129, 4.59516129,\n",
       "        4.59516129, 4.59516129, 4.59516129, 4.59516129, 4.59516129,\n",
       "        4.59516129, 4.59516129, 4.59516129, 4.59516129, 4.59516129,\n",
       "        4.59516129, 4.59516129, 4.59516129, 4.59516129, 4.59516129,\n",
       "        4.59516129, 4.59516129, 4.59516129, 4.59516129, 4.59516129,\n",
       "        4.59516129, 4.59516129, 4.59516129, 4.59516129, 4.59516129,\n",
       "        4.59516129, 4.59516129, 4.59516129, 4.59516129, 4.59516129,\n",
       "        4.59516129, 4.59516129, 4.59516129, 4.59516129, 4.59516129,\n",
       "        4.59516129, 4.59516129, 4.59516129, 4.59516129, 4.59516129,\n",
       "        4.59516129, 4.59516129, 4.59516129, 4.59516129, 4.59516129,\n",
       "        4.59516129, 4.59516129, 4.59516129, 4.59516129, 4.59516129,\n",
       "        4.59516129, 4.59516129, 4.59516129, 4.59516129, 4.59516129,\n",
       "        4.59516129, 4.59516129, 4.59516129, 4.59516129, 4.59516129,\n",
       "        4.59516129, 4.59516129, 4.59516129, 4.59516129, 4.59516129,\n",
       "        4.59516129, 4.59516129, 4.59516129, 4.59516129, 4.59516129,\n",
       "        4.59516129, 4.59516129, 4.59516129, 4.59516129, 4.59516129,\n",
       "        4.59516129, 4.59516129, 4.59516129, 4.59516129, 4.59516129,\n",
       "        4.59516129, 4.59516129, 4.59516129, 4.59516129, 4.59516129,\n",
       "        4.59516129, 4.59516129, 4.59516129, 4.59516129, 4.59516129,\n",
       "        4.59516129, 4.59516129, 4.59516129, 4.59516129, 4.59516129,\n",
       "        4.59516129, 4.59516129, 4.59516129, 4.59516129, 4.59516129,\n",
       "        4.59516129, 4.59516129, 4.59516129, 4.59516129, 4.59516129,\n",
       "        4.59516129, 4.59516129, 4.59516129, 4.59516129, 4.59516129,\n",
       "        4.59516129, 4.59516129, 4.59516129, 4.59516129, 4.59516129,\n",
       "        4.59516129, 4.59516129, 4.59516129, 4.59516129, 4.59516129,\n",
       "        4.59516129, 4.59516129, 4.59516129, 4.59516129, 4.59516129,\n",
       "        4.59516129, 4.59516129, 4.59516129, 4.59516129, 4.59516129,\n",
       "        4.59516129, 4.59516129, 4.59516129, 4.59516129, 4.59516129,\n",
       "        4.59516129, 4.59516129, 4.59516129, 4.59516129, 4.59516129,\n",
       "        4.59516129, 4.59516129, 4.59516129, 4.59516129, 4.59516129,\n",
       "        4.59516129, 4.59516129, 4.59516129, 4.59516129, 4.59516129,\n",
       "        4.59516129, 4.59516129, 4.59516129, 4.59516129, 4.59516129,\n",
       "        4.59516129, 4.59516129, 4.59516129, 4.59516129, 4.59516129,\n",
       "        4.59516129, 4.59516129, 4.59516129, 4.59516129, 4.59516129,\n",
       "        4.59516129, 4.59516129, 4.59516129, 4.59516129, 4.59516129,\n",
       "        4.59516129, 4.59516129, 4.59516129, 4.59516129, 4.59516129,\n",
       "        4.59516129, 4.59516129, 4.59516129, 4.59516129, 4.59516129]))"
      ]
     },
     "execution_count": 194,
     "metadata": {},
     "output_type": "execute_result"
    }
   ],
   "source": [
    "strategies[0], test_num_impute(strategies[0])"
   ]
  },
  {
   "cell_type": "code",
   "execution_count": 195,
   "metadata": {},
   "outputs": [
    {
     "data": {
      "text/plain": [
       "('median',\n",
       " array([4.6, 4.6, 4.6, 4.6, 4.6, 4.6, 4.6, 4.6, 4.6, 4.6, 4.6, 4.6, 4.6,\n",
       "        4.6, 4.6, 4.6, 4.6, 4.6, 4.6, 4.6, 4.6, 4.6, 4.6, 4.6, 4.6, 4.6,\n",
       "        4.6, 4.6, 4.6, 4.6, 4.6, 4.6, 4.6, 4.6, 4.6, 4.6, 4.6, 4.6, 4.6,\n",
       "        4.6, 4.6, 4.6, 4.6, 4.6, 4.6, 4.6, 4.6, 4.6, 4.6, 4.6, 4.6, 4.6,\n",
       "        4.6, 4.6, 4.6, 4.6, 4.6, 4.6, 4.6, 4.6, 4.6, 4.6, 4.6, 4.6, 4.6,\n",
       "        4.6, 4.6, 4.6, 4.6, 4.6, 4.6, 4.6, 4.6, 4.6, 4.6, 4.6, 4.6, 4.6,\n",
       "        4.6, 4.6, 4.6, 4.6, 4.6, 4.6, 4.6, 4.6, 4.6, 4.6, 4.6, 4.6, 4.6,\n",
       "        4.6, 4.6, 4.6, 4.6, 4.6, 4.6, 4.6, 4.6, 4.6, 4.6, 4.6, 4.6, 4.6,\n",
       "        4.6, 4.6, 4.6, 4.6, 4.6, 4.6, 4.6, 4.6, 4.6, 4.6, 4.6, 4.6, 4.6,\n",
       "        4.6, 4.6, 4.6, 4.6, 4.6, 4.6, 4.6, 4.6, 4.6, 4.6, 4.6, 4.6, 4.6,\n",
       "        4.6, 4.6, 4.6, 4.6, 4.6, 4.6, 4.6, 4.6, 4.6, 4.6, 4.6, 4.6, 4.6,\n",
       "        4.6, 4.6, 4.6, 4.6, 4.6, 4.6, 4.6, 4.6, 4.6, 4.6, 4.6, 4.6, 4.6,\n",
       "        4.6, 4.6, 4.6, 4.6, 4.6, 4.6, 4.6, 4.6, 4.6, 4.6, 4.6, 4.6, 4.6,\n",
       "        4.6, 4.6, 4.6, 4.6, 4.6, 4.6, 4.6, 4.6, 4.6, 4.6, 4.6, 4.6, 4.6,\n",
       "        4.6, 4.6, 4.6, 4.6, 4.6, 4.6, 4.6, 4.6, 4.6, 4.6, 4.6, 4.6, 4.6,\n",
       "        4.6, 4.6, 4.6, 4.6, 4.6, 4.6, 4.6, 4.6, 4.6, 4.6]))"
      ]
     },
     "execution_count": 195,
     "metadata": {},
     "output_type": "execute_result"
    }
   ],
   "source": [
    "strategies[1], test_num_impute(strategies[1])"
   ]
  },
  {
   "cell_type": "code",
   "execution_count": 196,
   "metadata": {},
   "outputs": [
    {
     "data": {
      "text/plain": [
       "('most_frequent',\n",
       " array([4.7, 4.7, 4.7, 4.7, 4.7, 4.7, 4.7, 4.7, 4.7, 4.7, 4.7, 4.7, 4.7,\n",
       "        4.7, 4.7, 4.7, 4.7, 4.7, 4.7, 4.7, 4.7, 4.7, 4.7, 4.7, 4.7, 4.7,\n",
       "        4.7, 4.7, 4.7, 4.7, 4.7, 4.7, 4.7, 4.7, 4.7, 4.7, 4.7, 4.7, 4.7,\n",
       "        4.7, 4.7, 4.7, 4.7, 4.7, 4.7, 4.7, 4.7, 4.7, 4.7, 4.7, 4.7, 4.7,\n",
       "        4.7, 4.7, 4.7, 4.7, 4.7, 4.7, 4.7, 4.7, 4.7, 4.7, 4.7, 4.7, 4.7,\n",
       "        4.7, 4.7, 4.7, 4.7, 4.7, 4.7, 4.7, 4.7, 4.7, 4.7, 4.7, 4.7, 4.7,\n",
       "        4.7, 4.7, 4.7, 4.7, 4.7, 4.7, 4.7, 4.7, 4.7, 4.7, 4.7, 4.7, 4.7,\n",
       "        4.7, 4.7, 4.7, 4.7, 4.7, 4.7, 4.7, 4.7, 4.7, 4.7, 4.7, 4.7, 4.7,\n",
       "        4.7, 4.7, 4.7, 4.7, 4.7, 4.7, 4.7, 4.7, 4.7, 4.7, 4.7, 4.7, 4.7,\n",
       "        4.7, 4.7, 4.7, 4.7, 4.7, 4.7, 4.7, 4.7, 4.7, 4.7, 4.7, 4.7, 4.7,\n",
       "        4.7, 4.7, 4.7, 4.7, 4.7, 4.7, 4.7, 4.7, 4.7, 4.7, 4.7, 4.7, 4.7,\n",
       "        4.7, 4.7, 4.7, 4.7, 4.7, 4.7, 4.7, 4.7, 4.7, 4.7, 4.7, 4.7, 4.7,\n",
       "        4.7, 4.7, 4.7, 4.7, 4.7, 4.7, 4.7, 4.7, 4.7, 4.7, 4.7, 4.7, 4.7,\n",
       "        4.7, 4.7, 4.7, 4.7, 4.7, 4.7, 4.7, 4.7, 4.7, 4.7, 4.7, 4.7, 4.7,\n",
       "        4.7, 4.7, 4.7, 4.7, 4.7, 4.7, 4.7, 4.7, 4.7, 4.7, 4.7, 4.7, 4.7,\n",
       "        4.7, 4.7, 4.7, 4.7, 4.7, 4.7, 4.7, 4.7, 4.7, 4.7]))"
      ]
     },
     "execution_count": 196,
     "metadata": {},
     "output_type": "execute_result"
    }
   ],
   "source": [
    "strategies[2], test_num_impute(strategies[2])"
   ]
  },
  {
   "cell_type": "markdown",
   "metadata": {},
   "source": [
    "Т.к. в столбце Rating данные распределены одномодально, можно заполнить пропуски медианным значением."
   ]
  },
  {
   "cell_type": "code",
   "execution_count": 197,
   "metadata": {},
   "outputs": [],
   "source": [
    "df['Rating'] = df['Rating'].fillna(df['Rating'].median())"
   ]
  },
  {
   "cell_type": "code",
   "execution_count": 198,
   "metadata": {},
   "outputs": [
    {
     "data": {
      "text/html": [
       "<div>\n",
       "<style scoped>\n",
       "    .dataframe tbody tr th:only-of-type {\n",
       "        vertical-align: middle;\n",
       "    }\n",
       "\n",
       "    .dataframe tbody tr th {\n",
       "        vertical-align: top;\n",
       "    }\n",
       "\n",
       "    .dataframe thead th {\n",
       "        text-align: right;\n",
       "    }\n",
       "</style>\n",
       "<table border=\"1\" class=\"dataframe\">\n",
       "  <thead>\n",
       "    <tr style=\"text-align: right;\">\n",
       "      <th></th>\n",
       "      <th>count</th>\n",
       "      <th>mean</th>\n",
       "      <th>std</th>\n",
       "      <th>min</th>\n",
       "      <th>25%</th>\n",
       "      <th>50%</th>\n",
       "      <th>75%</th>\n",
       "      <th>max</th>\n",
       "    </tr>\n",
       "  </thead>\n",
       "  <tbody>\n",
       "    <tr>\n",
       "      <th>Review Count</th>\n",
       "      <td>62.0</td>\n",
       "      <td>714.887097</td>\n",
       "      <td>856.714006</td>\n",
       "      <td>50.0</td>\n",
       "      <td>151.0</td>\n",
       "      <td>359.0</td>\n",
       "      <td>849.0</td>\n",
       "      <td>3865.0</td>\n",
       "    </tr>\n",
       "  </tbody>\n",
       "</table>\n",
       "</div>"
      ],
      "text/plain": [
       "              count        mean         std   min    25%    50%    75%     max\n",
       "Review Count   62.0  714.887097  856.714006  50.0  151.0  359.0  849.0  3865.0"
      ]
     },
     "execution_count": 198,
     "metadata": {},
     "output_type": "execute_result"
    }
   ],
   "source": [
    "df[['Review Count']].describe().T"
   ]
  },
  {
   "cell_type": "code",
   "execution_count": 199,
   "metadata": {},
   "outputs": [],
   "source": [
    "# Более сложная функция, которая позволяет задавать колонку и вид импьютации\n",
    "def test_num_impute_col(dataset, column, strategy_param):\n",
    "    temp_data = dataset[[column]]\n",
    "    \n",
    "    indicator = MissingIndicator()\n",
    "    mask_missing_values_only = indicator.fit_transform(temp_data)\n",
    "    \n",
    "    imp_num = SimpleImputer(strategy=strategy_param)\n",
    "    data_num_imp = imp_num.fit_transform(temp_data)\n",
    "    \n",
    "    filled_data = data_num_imp[mask_missing_values_only]\n",
    "    \n",
    "    return column, strategy_param, filled_data.size, filled_data[0], filled_data[filled_data.size-1]"
   ]
  },
  {
   "cell_type": "code",
   "execution_count": 200,
   "metadata": {},
   "outputs": [
    {
     "data": {
      "text/plain": [
       "('Review Count', 'mean', 205, 714.8870967741935, 714.8870967741935)"
      ]
     },
     "execution_count": 200,
     "metadata": {},
     "output_type": "execute_result"
    }
   ],
   "source": [
    "test_num_impute_col(df, 'Review Count', strategies[0])"
   ]
  },
  {
   "cell_type": "code",
   "execution_count": 201,
   "metadata": {},
   "outputs": [
    {
     "data": {
      "text/plain": [
       "('Review Count', 'median', 205, 359.0, 359.0)"
      ]
     },
     "execution_count": 201,
     "metadata": {},
     "output_type": "execute_result"
    }
   ],
   "source": [
    "test_num_impute_col(df, 'Review Count', strategies[1])"
   ]
  },
  {
   "cell_type": "code",
   "execution_count": 202,
   "metadata": {},
   "outputs": [
    {
     "data": {
      "text/plain": [
       "('Review Count', 'most_frequent', 205, 143.0, 143.0)"
      ]
     },
     "execution_count": 202,
     "metadata": {},
     "output_type": "execute_result"
    }
   ],
   "source": [
    "test_num_impute_col(df, 'Review Count', strategies[2])"
   ]
  },
  {
   "cell_type": "code",
   "execution_count": 203,
   "metadata": {},
   "outputs": [],
   "source": [
    "df['Review Count'] = df['Review Count'].fillna(df['Review Count'].median())"
   ]
  },
  {
   "cell_type": "markdown",
   "metadata": {},
   "source": [
    "### Обработка пропусков в категориальных данных"
   ]
  },
  {
   "cell_type": "code",
   "execution_count": 204,
   "metadata": {},
   "outputs": [
    {
     "name": "stdout",
     "output_type": "stream",
     "text": [
      "Колонка Level. Тип данных object. Количество пустых значений 2, 0.75%.\n"
     ]
    }
   ],
   "source": [
    "# Выберем категориальные колонки с пропущенными значениями\n",
    "# Цикл по колонкам датасета\n",
    "cat_cols = []\n",
    "for col in df.columns:\n",
    "    # Количество пустых значений \n",
    "    temp_null_count = df[df[col].isnull()].shape[0]\n",
    "    dt = str(df[col].dtype)\n",
    "    if temp_null_count>0 and (dt=='object'):\n",
    "        cat_cols.append(col)\n",
    "        temp_perc = round((temp_null_count / total_count) * 100.0, 2)\n",
    "        print('Колонка {}. Тип данных {}. Количество пустых значений {}, {}%.'.format(col, dt, temp_null_count, temp_perc))"
   ]
  },
  {
   "cell_type": "code",
   "execution_count": 205,
   "metadata": {},
   "outputs": [
    {
     "data": {
      "text/html": [
       "<div>\n",
       "<style scoped>\n",
       "    .dataframe tbody tr th:only-of-type {\n",
       "        vertical-align: middle;\n",
       "    }\n",
       "\n",
       "    .dataframe tbody tr th {\n",
       "        vertical-align: top;\n",
       "    }\n",
       "\n",
       "    .dataframe thead th {\n",
       "        text-align: right;\n",
       "    }\n",
       "</style>\n",
       "<table border=\"1\" class=\"dataframe\">\n",
       "  <thead>\n",
       "    <tr style=\"text-align: right;\">\n",
       "      <th></th>\n",
       "      <th>Level</th>\n",
       "    </tr>\n",
       "  </thead>\n",
       "  <tbody>\n",
       "    <tr>\n",
       "      <th>0</th>\n",
       "      <td>intermediate</td>\n",
       "    </tr>\n",
       "    <tr>\n",
       "      <th>1</th>\n",
       "      <td>beginner</td>\n",
       "    </tr>\n",
       "    <tr>\n",
       "      <th>2</th>\n",
       "      <td>intermediate</td>\n",
       "    </tr>\n",
       "    <tr>\n",
       "      <th>3</th>\n",
       "      <td>beginner</td>\n",
       "    </tr>\n",
       "    <tr>\n",
       "      <th>4</th>\n",
       "      <td>advanced</td>\n",
       "    </tr>\n",
       "  </tbody>\n",
       "</table>\n",
       "</div>"
      ],
      "text/plain": [
       "          Level\n",
       "0  intermediate\n",
       "1      beginner\n",
       "2  intermediate\n",
       "3      beginner\n",
       "4      advanced"
      ]
     },
     "execution_count": 205,
     "metadata": {},
     "output_type": "execute_result"
    }
   ],
   "source": [
    "cat_temp_data = df[['Level']]\n",
    "cat_temp_data.head()"
   ]
  },
  {
   "cell_type": "code",
   "execution_count": 206,
   "metadata": {},
   "outputs": [
    {
     "data": {
      "text/plain": [
       "array(['intermediate', 'beginner', 'advanced', nan], dtype=object)"
      ]
     },
     "execution_count": 206,
     "metadata": {},
     "output_type": "execute_result"
    }
   ],
   "source": [
    "cat_temp_data['Level'].unique()"
   ]
  },
  {
   "cell_type": "code",
   "execution_count": 207,
   "metadata": {},
   "outputs": [
    {
     "data": {
      "text/plain": [
       "(2, 1)"
      ]
     },
     "execution_count": 207,
     "metadata": {},
     "output_type": "execute_result"
    }
   ],
   "source": [
    "cat_temp_data[cat_temp_data['Level'].isnull()].shape"
   ]
  },
  {
   "cell_type": "code",
   "execution_count": 208,
   "metadata": {},
   "outputs": [
    {
     "data": {
      "text/plain": [
       "array([['intermediate'],\n",
       "       ['beginner'],\n",
       "       ['intermediate'],\n",
       "       ['beginner'],\n",
       "       ['advanced'],\n",
       "       ['beginner'],\n",
       "       ['beginner'],\n",
       "       ['intermediate'],\n",
       "       ['intermediate'],\n",
       "       ['beginner'],\n",
       "       ['intermediate'],\n",
       "       ['intermediate'],\n",
       "       ['beginner'],\n",
       "       ['advanced'],\n",
       "       ['intermediate'],\n",
       "       ['intermediate'],\n",
       "       ['advanced'],\n",
       "       ['beginner'],\n",
       "       ['intermediate'],\n",
       "       ['intermediate'],\n",
       "       ['beginner'],\n",
       "       ['intermediate'],\n",
       "       ['intermediate'],\n",
       "       ['intermediate'],\n",
       "       ['intermediate'],\n",
       "       ['intermediate'],\n",
       "       ['advanced'],\n",
       "       ['advanced'],\n",
       "       ['intermediate'],\n",
       "       ['advanced'],\n",
       "       ['beginner'],\n",
       "       ['intermediate'],\n",
       "       ['intermediate'],\n",
       "       ['intermediate'],\n",
       "       ['advanced'],\n",
       "       ['beginner'],\n",
       "       ['advanced'],\n",
       "       ['intermediate'],\n",
       "       ['intermediate'],\n",
       "       ['beginner'],\n",
       "       ['advanced'],\n",
       "       ['intermediate'],\n",
       "       ['intermediate'],\n",
       "       ['advanced'],\n",
       "       ['beginner'],\n",
       "       ['intermediate'],\n",
       "       ['beginner'],\n",
       "       ['intermediate'],\n",
       "       ['advanced'],\n",
       "       ['intermediate'],\n",
       "       ['advanced'],\n",
       "       ['beginner'],\n",
       "       ['advanced'],\n",
       "       ['advanced'],\n",
       "       ['beginner'],\n",
       "       ['intermediate'],\n",
       "       ['beginner'],\n",
       "       ['beginner'],\n",
       "       ['advanced'],\n",
       "       ['advanced'],\n",
       "       ['beginner'],\n",
       "       ['intermediate'],\n",
       "       ['intermediate'],\n",
       "       ['intermediate'],\n",
       "       ['intermediate'],\n",
       "       ['intermediate'],\n",
       "       ['intermediate'],\n",
       "       ['intermediate'],\n",
       "       ['beginner'],\n",
       "       ['intermediate'],\n",
       "       ['beginner'],\n",
       "       ['beginner'],\n",
       "       ['intermediate'],\n",
       "       ['intermediate'],\n",
       "       ['intermediate'],\n",
       "       ['advanced'],\n",
       "       ['beginner'],\n",
       "       ['intermediate'],\n",
       "       ['beginner'],\n",
       "       ['intermediate'],\n",
       "       ['intermediate'],\n",
       "       ['intermediate'],\n",
       "       ['beginner'],\n",
       "       ['intermediate'],\n",
       "       ['intermediate'],\n",
       "       ['intermediate'],\n",
       "       ['intermediate'],\n",
       "       ['intermediate'],\n",
       "       ['advanced'],\n",
       "       ['advanced'],\n",
       "       ['intermediate'],\n",
       "       ['intermediate'],\n",
       "       ['intermediate'],\n",
       "       ['intermediate'],\n",
       "       ['intermediate'],\n",
       "       ['intermediate'],\n",
       "       ['intermediate'],\n",
       "       ['advanced'],\n",
       "       ['intermediate'],\n",
       "       ['intermediate'],\n",
       "       ['intermediate'],\n",
       "       ['beginner'],\n",
       "       ['intermediate'],\n",
       "       ['advanced'],\n",
       "       ['intermediate'],\n",
       "       ['intermediate'],\n",
       "       ['advanced'],\n",
       "       ['intermediate'],\n",
       "       ['beginner'],\n",
       "       ['intermediate'],\n",
       "       ['advanced'],\n",
       "       ['intermediate'],\n",
       "       ['beginner'],\n",
       "       ['intermediate'],\n",
       "       ['advanced'],\n",
       "       ['advanced'],\n",
       "       ['advanced'],\n",
       "       ['intermediate'],\n",
       "       ['advanced'],\n",
       "       ['intermediate'],\n",
       "       ['advanced'],\n",
       "       ['intermediate'],\n",
       "       ['advanced'],\n",
       "       ['beginner'],\n",
       "       ['intermediate'],\n",
       "       ['intermediate'],\n",
       "       ['intermediate'],\n",
       "       ['intermediate'],\n",
       "       ['intermediate'],\n",
       "       ['intermediate'],\n",
       "       ['advanced'],\n",
       "       ['beginner'],\n",
       "       ['intermediate'],\n",
       "       ['intermediate'],\n",
       "       ['advanced'],\n",
       "       ['intermediate'],\n",
       "       ['intermediate'],\n",
       "       ['advanced'],\n",
       "       ['beginner'],\n",
       "       ['intermediate'],\n",
       "       ['beginner'],\n",
       "       ['intermediate'],\n",
       "       ['beginner'],\n",
       "       ['intermediate'],\n",
       "       ['advanced'],\n",
       "       ['intermediate'],\n",
       "       ['intermediate'],\n",
       "       ['intermediate'],\n",
       "       ['intermediate'],\n",
       "       ['intermediate'],\n",
       "       ['intermediate'],\n",
       "       ['beginner'],\n",
       "       ['advanced'],\n",
       "       ['intermediate'],\n",
       "       ['intermediate'],\n",
       "       ['intermediate'],\n",
       "       ['intermediate'],\n",
       "       ['beginner'],\n",
       "       ['intermediate'],\n",
       "       ['beginner'],\n",
       "       ['intermediate'],\n",
       "       ['intermediate'],\n",
       "       ['intermediate'],\n",
       "       ['beginner'],\n",
       "       ['intermediate'],\n",
       "       ['intermediate'],\n",
       "       ['beginner'],\n",
       "       ['beginner'],\n",
       "       ['beginner'],\n",
       "       ['beginner'],\n",
       "       ['beginner'],\n",
       "       ['intermediate'],\n",
       "       ['intermediate'],\n",
       "       ['intermediate'],\n",
       "       ['advanced'],\n",
       "       ['intermediate'],\n",
       "       ['intermediate'],\n",
       "       ['beginner'],\n",
       "       ['intermediate'],\n",
       "       ['beginner'],\n",
       "       ['intermediate'],\n",
       "       ['advanced'],\n",
       "       ['intermediate'],\n",
       "       ['beginner'],\n",
       "       ['intermediate'],\n",
       "       ['intermediate'],\n",
       "       ['intermediate'],\n",
       "       ['intermediate'],\n",
       "       ['beginner'],\n",
       "       ['intermediate'],\n",
       "       ['beginner'],\n",
       "       ['intermediate'],\n",
       "       ['advanced'],\n",
       "       ['intermediate'],\n",
       "       ['intermediate'],\n",
       "       ['intermediate'],\n",
       "       ['intermediate'],\n",
       "       ['beginner'],\n",
       "       ['intermediate'],\n",
       "       ['intermediate'],\n",
       "       ['advanced'],\n",
       "       ['intermediate'],\n",
       "       ['intermediate'],\n",
       "       ['advanced'],\n",
       "       ['advanced'],\n",
       "       ['intermediate'],\n",
       "       ['beginner'],\n",
       "       ['intermediate'],\n",
       "       ['beginner'],\n",
       "       ['intermediate'],\n",
       "       ['advanced'],\n",
       "       ['beginner'],\n",
       "       ['intermediate'],\n",
       "       ['intermediate'],\n",
       "       ['intermediate'],\n",
       "       ['intermediate'],\n",
       "       ['intermediate'],\n",
       "       ['intermediate'],\n",
       "       ['advanced'],\n",
       "       ['intermediate'],\n",
       "       ['intermediate'],\n",
       "       ['intermediate'],\n",
       "       ['intermediate'],\n",
       "       ['beginner'],\n",
       "       ['beginner'],\n",
       "       ['beginner'],\n",
       "       ['beginner'],\n",
       "       ['beginner'],\n",
       "       ['intermediate'],\n",
       "       ['intermediate'],\n",
       "       ['beginner'],\n",
       "       ['beginner'],\n",
       "       ['intermediate'],\n",
       "       ['beginner'],\n",
       "       ['beginner'],\n",
       "       ['intermediate'],\n",
       "       ['intermediate'],\n",
       "       ['intermediate'],\n",
       "       ['intermediate'],\n",
       "       ['intermediate'],\n",
       "       ['intermediate'],\n",
       "       ['intermediate'],\n",
       "       ['intermediate'],\n",
       "       ['intermediate'],\n",
       "       ['beginner'],\n",
       "       ['beginner'],\n",
       "       ['intermediate'],\n",
       "       ['advanced'],\n",
       "       ['beginner'],\n",
       "       ['beginner'],\n",
       "       ['intermediate'],\n",
       "       ['intermediate'],\n",
       "       ['advanced'],\n",
       "       ['intermediate'],\n",
       "       ['beginner'],\n",
       "       ['beginner'],\n",
       "       ['beginner'],\n",
       "       ['beginner'],\n",
       "       ['beginner'],\n",
       "       ['intermediate'],\n",
       "       ['intermediate'],\n",
       "       ['intermediate'],\n",
       "       ['intermediate'],\n",
       "       ['intermediate'],\n",
       "       ['intermediate'],\n",
       "       ['intermediate'],\n",
       "       ['intermediate']], dtype=object)"
      ]
     },
     "execution_count": 208,
     "metadata": {},
     "output_type": "execute_result"
    }
   ],
   "source": [
    "# Импьютация наиболее частыми значениями\n",
    "imp2 = SimpleImputer(missing_values = np.nan, strategy = 'most_frequent')\n",
    "data_imp2 = imp2.fit_transform(cat_temp_data)\n",
    "data_imp2"
   ]
  },
  {
   "cell_type": "code",
   "execution_count": 209,
   "metadata": {},
   "outputs": [
    {
     "data": {
      "text/plain": [
       "array(['advanced', 'beginner', 'intermediate'], dtype=object)"
      ]
     },
     "execution_count": 209,
     "metadata": {},
     "output_type": "execute_result"
    }
   ],
   "source": [
    "# Пустые значения отсутствуют\n",
    "np.unique(data_imp2)"
   ]
  },
  {
   "cell_type": "code",
   "execution_count": 210,
   "metadata": {
    "scrolled": true
   },
   "outputs": [
    {
     "data": {
      "text/plain": [
       "array([['intermediate'],\n",
       "       ['beginner'],\n",
       "       ['intermediate'],\n",
       "       ['beginner'],\n",
       "       ['advanced'],\n",
       "       ['beginner'],\n",
       "       ['beginner'],\n",
       "       ['intermediate'],\n",
       "       ['intermediate'],\n",
       "       ['beginner'],\n",
       "       ['intermediate'],\n",
       "       ['intermediate'],\n",
       "       ['beginner'],\n",
       "       ['advanced'],\n",
       "       ['intermediate'],\n",
       "       ['intermediate'],\n",
       "       ['advanced'],\n",
       "       ['beginner'],\n",
       "       ['intermediate'],\n",
       "       ['intermediate'],\n",
       "       ['beginner'],\n",
       "       ['intermediate'],\n",
       "       ['intermediate'],\n",
       "       ['intermediate'],\n",
       "       ['intermediate'],\n",
       "       ['intermediate'],\n",
       "       ['advanced'],\n",
       "       ['advanced'],\n",
       "       ['intermediate'],\n",
       "       ['advanced'],\n",
       "       ['beginner'],\n",
       "       ['intermediate'],\n",
       "       ['intermediate'],\n",
       "       ['intermediate'],\n",
       "       ['advanced'],\n",
       "       ['beginner'],\n",
       "       ['advanced'],\n",
       "       ['intermediate'],\n",
       "       ['intermediate'],\n",
       "       ['beginner'],\n",
       "       ['advanced'],\n",
       "       ['intermediate'],\n",
       "       ['intermediate'],\n",
       "       ['advanced'],\n",
       "       ['beginner'],\n",
       "       ['intermediate'],\n",
       "       ['beginner'],\n",
       "       ['intermediate'],\n",
       "       ['advanced'],\n",
       "       ['intermediate'],\n",
       "       ['advanced'],\n",
       "       ['beginner'],\n",
       "       ['advanced'],\n",
       "       ['advanced'],\n",
       "       ['beginner'],\n",
       "       ['intermediate'],\n",
       "       ['beginner'],\n",
       "       ['beginner'],\n",
       "       ['advanced'],\n",
       "       ['advanced'],\n",
       "       ['beginner'],\n",
       "       ['intermediate'],\n",
       "       ['intermediate'],\n",
       "       ['intermediate'],\n",
       "       ['intermediate'],\n",
       "       ['intermediate'],\n",
       "       ['intermediate'],\n",
       "       ['intermediate'],\n",
       "       ['beginner'],\n",
       "       ['intermediate'],\n",
       "       ['beginner'],\n",
       "       ['beginner'],\n",
       "       ['intermediate'],\n",
       "       ['intermediate'],\n",
       "       ['intermediate'],\n",
       "       ['advanced'],\n",
       "       ['beginner'],\n",
       "       ['intermediate'],\n",
       "       ['beginner'],\n",
       "       ['intermediate'],\n",
       "       ['intermediate'],\n",
       "       ['intermediate'],\n",
       "       ['beginner'],\n",
       "       ['intermediate'],\n",
       "       ['intermediate'],\n",
       "       ['intermediate'],\n",
       "       ['intermediate'],\n",
       "       ['intermediate'],\n",
       "       ['advanced'],\n",
       "       ['advanced'],\n",
       "       ['intermediate'],\n",
       "       ['intermediate'],\n",
       "       ['intermediate'],\n",
       "       ['intermediate'],\n",
       "       ['intermediate'],\n",
       "       ['intermediate'],\n",
       "       ['intermediate'],\n",
       "       ['advanced'],\n",
       "       ['intermediate'],\n",
       "       ['intermediate'],\n",
       "       ['intermediate'],\n",
       "       ['beginner'],\n",
       "       ['intermediate'],\n",
       "       ['advanced'],\n",
       "       ['intermediate'],\n",
       "       ['intermediate'],\n",
       "       ['advanced'],\n",
       "       ['intermediate'],\n",
       "       ['beginner'],\n",
       "       ['intermediate'],\n",
       "       ['advanced'],\n",
       "       ['intermediate'],\n",
       "       ['beginner'],\n",
       "       ['intermediate'],\n",
       "       ['advanced'],\n",
       "       ['advanced'],\n",
       "       ['advanced'],\n",
       "       ['intermediate'],\n",
       "       ['advanced'],\n",
       "       ['intermediate'],\n",
       "       ['advanced'],\n",
       "       ['intermediate'],\n",
       "       ['advanced'],\n",
       "       ['beginner'],\n",
       "       ['intermediate'],\n",
       "       ['intermediate'],\n",
       "       ['intermediate'],\n",
       "       ['intermediate'],\n",
       "       ['intermediate'],\n",
       "       ['intermediate'],\n",
       "       ['advanced'],\n",
       "       ['beginner'],\n",
       "       ['intermediate'],\n",
       "       ['intermediate'],\n",
       "       ['advanced'],\n",
       "       ['intermediate'],\n",
       "       ['intermediate'],\n",
       "       ['advanced'],\n",
       "       ['beginner'],\n",
       "       ['intermediate'],\n",
       "       ['beginner'],\n",
       "       ['intermediate'],\n",
       "       ['beginner'],\n",
       "       ['intermediate'],\n",
       "       ['advanced'],\n",
       "       ['intermediate'],\n",
       "       ['intermediate'],\n",
       "       ['intermediate'],\n",
       "       ['intermediate'],\n",
       "       ['intermediate'],\n",
       "       ['intermediate'],\n",
       "       ['beginner'],\n",
       "       ['advanced'],\n",
       "       ['intermediate'],\n",
       "       ['intermediate'],\n",
       "       ['intermediate'],\n",
       "       ['intermediate'],\n",
       "       ['beginner'],\n",
       "       ['intermediate'],\n",
       "       ['beginner'],\n",
       "       ['intermediate'],\n",
       "       ['intermediate'],\n",
       "       ['intermediate'],\n",
       "       ['beginner'],\n",
       "       ['intermediate'],\n",
       "       ['intermediate'],\n",
       "       ['beginner'],\n",
       "       ['beginner'],\n",
       "       ['beginner'],\n",
       "       ['beginner'],\n",
       "       ['beginner'],\n",
       "       ['intermediate'],\n",
       "       ['intermediate'],\n",
       "       ['intermediate'],\n",
       "       ['advanced'],\n",
       "       ['intermediate'],\n",
       "       ['intermediate'],\n",
       "       ['beginner'],\n",
       "       ['intermediate'],\n",
       "       ['beginner'],\n",
       "       ['intermediate'],\n",
       "       ['advanced'],\n",
       "       ['intermediate'],\n",
       "       ['beginner'],\n",
       "       ['intermediate'],\n",
       "       ['intermediate'],\n",
       "       ['intermediate'],\n",
       "       ['intermediate'],\n",
       "       ['beginner'],\n",
       "       ['intermediate'],\n",
       "       ['beginner'],\n",
       "       ['intermediate'],\n",
       "       ['advanced'],\n",
       "       ['intermediate'],\n",
       "       ['intermediate'],\n",
       "       ['intermediate'],\n",
       "       ['intermediate'],\n",
       "       ['beginner'],\n",
       "       ['intermediate'],\n",
       "       ['intermediate'],\n",
       "       ['advanced'],\n",
       "       ['intermediate'],\n",
       "       ['intermediate'],\n",
       "       ['advanced'],\n",
       "       ['advanced'],\n",
       "       ['intermediate'],\n",
       "       ['beginner'],\n",
       "       ['intermediate'],\n",
       "       ['beginner'],\n",
       "       ['intermediate'],\n",
       "       ['advanced'],\n",
       "       ['beginner'],\n",
       "       ['intermediate'],\n",
       "       ['intermediate'],\n",
       "       ['intermediate'],\n",
       "       ['intermediate'],\n",
       "       ['intermediate'],\n",
       "       ['NA'],\n",
       "       ['advanced'],\n",
       "       ['intermediate'],\n",
       "       ['NA'],\n",
       "       ['intermediate'],\n",
       "       ['intermediate'],\n",
       "       ['beginner'],\n",
       "       ['beginner'],\n",
       "       ['beginner'],\n",
       "       ['beginner'],\n",
       "       ['beginner'],\n",
       "       ['intermediate'],\n",
       "       ['intermediate'],\n",
       "       ['beginner'],\n",
       "       ['beginner'],\n",
       "       ['intermediate'],\n",
       "       ['beginner'],\n",
       "       ['beginner'],\n",
       "       ['intermediate'],\n",
       "       ['intermediate'],\n",
       "       ['intermediate'],\n",
       "       ['intermediate'],\n",
       "       ['intermediate'],\n",
       "       ['intermediate'],\n",
       "       ['intermediate'],\n",
       "       ['intermediate'],\n",
       "       ['intermediate'],\n",
       "       ['beginner'],\n",
       "       ['beginner'],\n",
       "       ['intermediate'],\n",
       "       ['advanced'],\n",
       "       ['beginner'],\n",
       "       ['beginner'],\n",
       "       ['intermediate'],\n",
       "       ['intermediate'],\n",
       "       ['advanced'],\n",
       "       ['intermediate'],\n",
       "       ['beginner'],\n",
       "       ['beginner'],\n",
       "       ['beginner'],\n",
       "       ['beginner'],\n",
       "       ['beginner'],\n",
       "       ['intermediate'],\n",
       "       ['intermediate'],\n",
       "       ['intermediate'],\n",
       "       ['intermediate'],\n",
       "       ['intermediate'],\n",
       "       ['intermediate'],\n",
       "       ['intermediate'],\n",
       "       ['intermediate']], dtype=object)"
      ]
     },
     "execution_count": 210,
     "metadata": {},
     "output_type": "execute_result"
    }
   ],
   "source": [
    "# Импьютация константой\n",
    "imp3 = SimpleImputer(missing_values=np.nan, strategy='constant', fill_value='NA')\n",
    "data_imp3 = imp3.fit_transform(cat_temp_data)\n",
    "data_imp3"
   ]
  },
  {
   "cell_type": "code",
   "execution_count": 211,
   "metadata": {},
   "outputs": [
    {
     "data": {
      "text/plain": [
       "array(['NA', 'advanced', 'beginner', 'intermediate'], dtype=object)"
      ]
     },
     "execution_count": 211,
     "metadata": {},
     "output_type": "execute_result"
    }
   ],
   "source": [
    "np.unique(data_imp3)"
   ]
  },
  {
   "cell_type": "code",
   "execution_count": 212,
   "metadata": {},
   "outputs": [
    {
     "data": {
      "text/plain": [
       "2"
      ]
     },
     "execution_count": 212,
     "metadata": {},
     "output_type": "execute_result"
    }
   ],
   "source": [
    "data_imp3[data_imp3=='NA'].size"
   ]
  },
  {
   "cell_type": "markdown",
   "metadata": {},
   "source": [
    "В данном столбце маленький процент пропусков, соответственно, можно заполнить константным значением."
   ]
  },
  {
   "cell_type": "code",
   "execution_count": 213,
   "metadata": {},
   "outputs": [],
   "source": [
    "df['Level']= df['Level'].fillna('Unknown')"
   ]
  },
  {
   "cell_type": "code",
   "execution_count": 214,
   "metadata": {},
   "outputs": [
    {
     "data": {
      "text/plain": [
       "Level           0\n",
       "Rating          0\n",
       "Review Count    0\n",
       "dtype: int64"
      ]
     },
     "execution_count": 214,
     "metadata": {},
     "output_type": "execute_result"
    }
   ],
   "source": [
    "df.isnull().sum()"
   ]
  },
  {
   "cell_type": "markdown",
   "metadata": {},
   "source": [
    "# Преобразование категориальных признаков в числовые"
   ]
  },
  {
   "cell_type": "code",
   "execution_count": 215,
   "metadata": {
    "scrolled": false
   },
   "outputs": [
    {
     "data": {
      "text/html": [
       "<div>\n",
       "<style scoped>\n",
       "    .dataframe tbody tr th:only-of-type {\n",
       "        vertical-align: middle;\n",
       "    }\n",
       "\n",
       "    .dataframe tbody tr th {\n",
       "        vertical-align: top;\n",
       "    }\n",
       "\n",
       "    .dataframe thead th {\n",
       "        text-align: right;\n",
       "    }\n",
       "</style>\n",
       "<table border=\"1\" class=\"dataframe\">\n",
       "  <thead>\n",
       "    <tr style=\"text-align: right;\">\n",
       "      <th></th>\n",
       "      <th>c1</th>\n",
       "    </tr>\n",
       "  </thead>\n",
       "  <tbody>\n",
       "    <tr>\n",
       "      <th>0</th>\n",
       "      <td>intermediate</td>\n",
       "    </tr>\n",
       "    <tr>\n",
       "      <th>1</th>\n",
       "      <td>beginner</td>\n",
       "    </tr>\n",
       "    <tr>\n",
       "      <th>2</th>\n",
       "      <td>intermediate</td>\n",
       "    </tr>\n",
       "    <tr>\n",
       "      <th>3</th>\n",
       "      <td>beginner</td>\n",
       "    </tr>\n",
       "    <tr>\n",
       "      <th>4</th>\n",
       "      <td>advanced</td>\n",
       "    </tr>\n",
       "    <tr>\n",
       "      <th>...</th>\n",
       "      <td>...</td>\n",
       "    </tr>\n",
       "    <tr>\n",
       "      <th>262</th>\n",
       "      <td>intermediate</td>\n",
       "    </tr>\n",
       "    <tr>\n",
       "      <th>263</th>\n",
       "      <td>intermediate</td>\n",
       "    </tr>\n",
       "    <tr>\n",
       "      <th>264</th>\n",
       "      <td>intermediate</td>\n",
       "    </tr>\n",
       "    <tr>\n",
       "      <th>265</th>\n",
       "      <td>intermediate</td>\n",
       "    </tr>\n",
       "    <tr>\n",
       "      <th>266</th>\n",
       "      <td>intermediate</td>\n",
       "    </tr>\n",
       "  </tbody>\n",
       "</table>\n",
       "<p>267 rows × 1 columns</p>\n",
       "</div>"
      ],
      "text/plain": [
       "               c1\n",
       "0    intermediate\n",
       "1        beginner\n",
       "2    intermediate\n",
       "3        beginner\n",
       "4        advanced\n",
       "..            ...\n",
       "262  intermediate\n",
       "263  intermediate\n",
       "264  intermediate\n",
       "265  intermediate\n",
       "266  intermediate\n",
       "\n",
       "[267 rows x 1 columns]"
      ]
     },
     "execution_count": 215,
     "metadata": {},
     "output_type": "execute_result"
    }
   ],
   "source": [
    "cat_enc = pd.DataFrame({'c1':data_imp2.T[0]})\n",
    "cat_enc"
   ]
  },
  {
   "cell_type": "markdown",
   "metadata": {},
   "source": [
    "# Кодирование категорий целочисленными значениями (label encoding)"
   ]
  },
  {
   "cell_type": "code",
   "execution_count": 228,
   "metadata": {},
   "outputs": [
    {
     "data": {
      "text/plain": [
       "array(['intermediate', 'beginner', 'advanced'], dtype=object)"
      ]
     },
     "execution_count": 228,
     "metadata": {},
     "output_type": "execute_result"
    }
   ],
   "source": [
    "cat_enc['c1'].unique()"
   ]
  },
  {
   "cell_type": "code",
   "execution_count": 229,
   "metadata": {},
   "outputs": [],
   "source": [
    "le = LabelEncoder()\n",
    "cat_enc_le = le.fit_transform(cat_enc['c1'])"
   ]
  },
  {
   "cell_type": "code",
   "execution_count": 230,
   "metadata": {},
   "outputs": [
    {
     "data": {
      "text/plain": [
       "array([0, 1, 2])"
      ]
     },
     "execution_count": 230,
     "metadata": {},
     "output_type": "execute_result"
    }
   ],
   "source": [
    "np.unique(cat_enc_le)"
   ]
  },
  {
   "cell_type": "code",
   "execution_count": 231,
   "metadata": {},
   "outputs": [
    {
     "data": {
      "text/plain": [
       "array(['advanced', 'beginner', 'intermediate'], dtype=object)"
      ]
     },
     "execution_count": 231,
     "metadata": {},
     "output_type": "execute_result"
    }
   ],
   "source": [
    "le.classes_"
   ]
  },
  {
   "cell_type": "code",
   "execution_count": 232,
   "metadata": {},
   "outputs": [
    {
     "data": {
      "text/plain": [
       "array(['advanced', 'beginner', 'intermediate'], dtype=object)"
      ]
     },
     "execution_count": 232,
     "metadata": {},
     "output_type": "execute_result"
    }
   ],
   "source": [
    "le.inverse_transform([0, 1, 2])"
   ]
  },
  {
   "cell_type": "markdown",
   "metadata": {},
   "source": [
    "# Кодирование категорий наборами бинарных значений"
   ]
  },
  {
   "cell_type": "code",
   "execution_count": 221,
   "metadata": {},
   "outputs": [
    {
     "data": {
      "text/plain": [
       "(267, 1)"
      ]
     },
     "execution_count": 221,
     "metadata": {},
     "output_type": "execute_result"
    }
   ],
   "source": [
    "ohe = OneHotEncoder()\n",
    "cat_enc_ohe = ohe.fit_transform(cat_enc[['c1']])\n",
    "cat_enc.shape"
   ]
  },
  {
   "cell_type": "code",
   "execution_count": 222,
   "metadata": {},
   "outputs": [
    {
     "data": {
      "text/plain": [
       "(267, 3)"
      ]
     },
     "execution_count": 222,
     "metadata": {},
     "output_type": "execute_result"
    }
   ],
   "source": [
    "cat_enc_ohe.shape"
   ]
  },
  {
   "cell_type": "code",
   "execution_count": 223,
   "metadata": {},
   "outputs": [
    {
     "data": {
      "text/plain": [
       "<267x3 sparse matrix of type '<class 'numpy.float64'>'\n",
       "\twith 267 stored elements in Compressed Sparse Row format>"
      ]
     },
     "execution_count": 223,
     "metadata": {},
     "output_type": "execute_result"
    }
   ],
   "source": [
    "cat_enc_ohe"
   ]
  },
  {
   "cell_type": "code",
   "execution_count": 224,
   "metadata": {},
   "outputs": [
    {
     "data": {
      "text/plain": [
       "matrix([[0., 0., 1.],\n",
       "        [0., 1., 0.],\n",
       "        [0., 0., 1.],\n",
       "        [0., 1., 0.],\n",
       "        [1., 0., 0.],\n",
       "        [0., 1., 0.],\n",
       "        [0., 1., 0.],\n",
       "        [0., 0., 1.],\n",
       "        [0., 0., 1.],\n",
       "        [0., 1., 0.]])"
      ]
     },
     "execution_count": 224,
     "metadata": {},
     "output_type": "execute_result"
    }
   ],
   "source": [
    "cat_enc_ohe.todense()[0:10]"
   ]
  },
  {
   "cell_type": "code",
   "execution_count": 225,
   "metadata": {},
   "outputs": [
    {
     "data": {
      "text/html": [
       "<div>\n",
       "<style scoped>\n",
       "    .dataframe tbody tr th:only-of-type {\n",
       "        vertical-align: middle;\n",
       "    }\n",
       "\n",
       "    .dataframe tbody tr th {\n",
       "        vertical-align: top;\n",
       "    }\n",
       "\n",
       "    .dataframe thead th {\n",
       "        text-align: right;\n",
       "    }\n",
       "</style>\n",
       "<table border=\"1\" class=\"dataframe\">\n",
       "  <thead>\n",
       "    <tr style=\"text-align: right;\">\n",
       "      <th></th>\n",
       "      <th>c1</th>\n",
       "    </tr>\n",
       "  </thead>\n",
       "  <tbody>\n",
       "    <tr>\n",
       "      <th>0</th>\n",
       "      <td>intermediate</td>\n",
       "    </tr>\n",
       "    <tr>\n",
       "      <th>1</th>\n",
       "      <td>beginner</td>\n",
       "    </tr>\n",
       "    <tr>\n",
       "      <th>2</th>\n",
       "      <td>intermediate</td>\n",
       "    </tr>\n",
       "    <tr>\n",
       "      <th>3</th>\n",
       "      <td>beginner</td>\n",
       "    </tr>\n",
       "    <tr>\n",
       "      <th>4</th>\n",
       "      <td>advanced</td>\n",
       "    </tr>\n",
       "    <tr>\n",
       "      <th>5</th>\n",
       "      <td>beginner</td>\n",
       "    </tr>\n",
       "    <tr>\n",
       "      <th>6</th>\n",
       "      <td>beginner</td>\n",
       "    </tr>\n",
       "    <tr>\n",
       "      <th>7</th>\n",
       "      <td>intermediate</td>\n",
       "    </tr>\n",
       "    <tr>\n",
       "      <th>8</th>\n",
       "      <td>intermediate</td>\n",
       "    </tr>\n",
       "    <tr>\n",
       "      <th>9</th>\n",
       "      <td>beginner</td>\n",
       "    </tr>\n",
       "  </tbody>\n",
       "</table>\n",
       "</div>"
      ],
      "text/plain": [
       "             c1\n",
       "0  intermediate\n",
       "1      beginner\n",
       "2  intermediate\n",
       "3      beginner\n",
       "4      advanced\n",
       "5      beginner\n",
       "6      beginner\n",
       "7  intermediate\n",
       "8  intermediate\n",
       "9      beginner"
      ]
     },
     "execution_count": 225,
     "metadata": {},
     "output_type": "execute_result"
    }
   ],
   "source": [
    "cat_enc.head(10)"
   ]
  },
  {
   "cell_type": "code",
   "execution_count": 226,
   "metadata": {},
   "outputs": [
    {
     "data": {
      "text/html": [
       "<div>\n",
       "<style scoped>\n",
       "    .dataframe tbody tr th:only-of-type {\n",
       "        vertical-align: middle;\n",
       "    }\n",
       "\n",
       "    .dataframe tbody tr th {\n",
       "        vertical-align: top;\n",
       "    }\n",
       "\n",
       "    .dataframe thead th {\n",
       "        text-align: right;\n",
       "    }\n",
       "</style>\n",
       "<table border=\"1\" class=\"dataframe\">\n",
       "  <thead>\n",
       "    <tr style=\"text-align: right;\">\n",
       "      <th></th>\n",
       "      <th>c1_advanced</th>\n",
       "      <th>c1_beginner</th>\n",
       "      <th>c1_intermediate</th>\n",
       "    </tr>\n",
       "  </thead>\n",
       "  <tbody>\n",
       "    <tr>\n",
       "      <th>0</th>\n",
       "      <td>0</td>\n",
       "      <td>0</td>\n",
       "      <td>1</td>\n",
       "    </tr>\n",
       "    <tr>\n",
       "      <th>1</th>\n",
       "      <td>0</td>\n",
       "      <td>1</td>\n",
       "      <td>0</td>\n",
       "    </tr>\n",
       "    <tr>\n",
       "      <th>2</th>\n",
       "      <td>0</td>\n",
       "      <td>0</td>\n",
       "      <td>1</td>\n",
       "    </tr>\n",
       "    <tr>\n",
       "      <th>3</th>\n",
       "      <td>0</td>\n",
       "      <td>1</td>\n",
       "      <td>0</td>\n",
       "    </tr>\n",
       "    <tr>\n",
       "      <th>4</th>\n",
       "      <td>1</td>\n",
       "      <td>0</td>\n",
       "      <td>0</td>\n",
       "    </tr>\n",
       "  </tbody>\n",
       "</table>\n",
       "</div>"
      ],
      "text/plain": [
       "   c1_advanced  c1_beginner  c1_intermediate\n",
       "0            0            0                1\n",
       "1            0            1                0\n",
       "2            0            0                1\n",
       "3            0            1                0\n",
       "4            1            0                0"
      ]
     },
     "execution_count": 226,
     "metadata": {},
     "output_type": "execute_result"
    }
   ],
   "source": [
    "pd.get_dummies(cat_enc).head()"
   ]
  },
  {
   "cell_type": "code",
   "execution_count": 227,
   "metadata": {},
   "outputs": [
    {
     "data": {
      "text/html": [
       "<div>\n",
       "<style scoped>\n",
       "    .dataframe tbody tr th:only-of-type {\n",
       "        vertical-align: middle;\n",
       "    }\n",
       "\n",
       "    .dataframe tbody tr th {\n",
       "        vertical-align: top;\n",
       "    }\n",
       "\n",
       "    .dataframe thead th {\n",
       "        text-align: right;\n",
       "    }\n",
       "</style>\n",
       "<table border=\"1\" class=\"dataframe\">\n",
       "  <thead>\n",
       "    <tr style=\"text-align: right;\">\n",
       "      <th></th>\n",
       "      <th>Level_advanced</th>\n",
       "      <th>Level_beginner</th>\n",
       "      <th>Level_intermediate</th>\n",
       "      <th>Level_nan</th>\n",
       "    </tr>\n",
       "  </thead>\n",
       "  <tbody>\n",
       "    <tr>\n",
       "      <th>0</th>\n",
       "      <td>0</td>\n",
       "      <td>0</td>\n",
       "      <td>1</td>\n",
       "      <td>0</td>\n",
       "    </tr>\n",
       "    <tr>\n",
       "      <th>1</th>\n",
       "      <td>0</td>\n",
       "      <td>1</td>\n",
       "      <td>0</td>\n",
       "      <td>0</td>\n",
       "    </tr>\n",
       "    <tr>\n",
       "      <th>2</th>\n",
       "      <td>0</td>\n",
       "      <td>0</td>\n",
       "      <td>1</td>\n",
       "      <td>0</td>\n",
       "    </tr>\n",
       "    <tr>\n",
       "      <th>3</th>\n",
       "      <td>0</td>\n",
       "      <td>1</td>\n",
       "      <td>0</td>\n",
       "      <td>0</td>\n",
       "    </tr>\n",
       "    <tr>\n",
       "      <th>4</th>\n",
       "      <td>1</td>\n",
       "      <td>0</td>\n",
       "      <td>0</td>\n",
       "      <td>0</td>\n",
       "    </tr>\n",
       "  </tbody>\n",
       "</table>\n",
       "</div>"
      ],
      "text/plain": [
       "   Level_advanced  Level_beginner  Level_intermediate  Level_nan\n",
       "0               0               0                   1          0\n",
       "1               0               1                   0          0\n",
       "2               0               0                   1          0\n",
       "3               0               1                   0          0\n",
       "4               1               0                   0          0"
      ]
     },
     "execution_count": 227,
     "metadata": {},
     "output_type": "execute_result"
    }
   ],
   "source": [
    "pd.get_dummies(cat_temp_data, dummy_na=True).head()"
   ]
  },
  {
   "cell_type": "markdown",
   "metadata": {},
   "source": [
    "# Масштабирование данных"
   ]
  },
  {
   "cell_type": "markdown",
   "metadata": {},
   "source": [
    "### MinMax масштабирование"
   ]
  },
  {
   "cell_type": "code",
   "execution_count": 233,
   "metadata": {},
   "outputs": [
    {
     "data": {
      "image/png": "[encoded data removed]",
      "text/plain": [
       "<Figure size 432x288 with 1 Axes>"
      ]
     },
     "metadata": {},
     "output_type": "display_data"
    }
   ],
   "source": [
    "sc1 = MinMaxScaler()\n",
    "sc1_data = sc1.fit_transform(df[['Review Count']])\n",
    "plt.hist(df['Review Count'], 50)\n",
    "plt.show()"
   ]
  },
  {
   "cell_type": "code",
   "execution_count": 234,
   "metadata": {},
   "outputs": [
    {
     "data": {
      "image/png": "[encoded data removed]",
      "text/plain": [
       "<Figure size 432x288 with 1 Axes>"
      ]
     },
     "metadata": {},
     "output_type": "display_data"
    }
   ],
   "source": [
    "plt.hist(sc1_data, 50)\n",
    "plt.show()"
   ]
  },
  {
   "cell_type": "markdown",
   "metadata": {},
   "source": [
    "### Масштабирование данных на основе Z-оценки - StandardScaler"
   ]
  },
  {
   "cell_type": "code",
   "execution_count": 236,
   "metadata": {},
   "outputs": [
    {
     "data": {
      "image/png": "[encoded data removed]",
      "text/plain": [
       "<Figure size 432x288 with 1 Axes>"
      ]
     },
     "metadata": {},
     "output_type": "display_data"
    }
   ],
   "source": [
    "sc2 = StandardScaler()\n",
    "sc2_data = sc2.fit_transform(df[['Review Count']])\n",
    "plt.hist(sc2_data, 50)\n",
    "plt.show()"
   ]
  }
 ],
 "metadata": {
  "kernelspec": {
   "display_name": "Python 3",
   "language": "python",
   "name": "python3"
  },
  "language_info": {
   "codemirror_mode": {
    "name": "ipython",
    "version": 3
   },
   "file_extension": ".py",
   "mimetype": "text/x-python",
   "name": "python",
   "nbconvert_exporter": "python",
   "pygments_lexer": "ipython3",
   "version": "3.8.5"
  }
 },
 "nbformat": 4,
 "nbformat_minor": 4
}
